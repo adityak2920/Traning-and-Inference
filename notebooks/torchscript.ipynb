{
 "cells": [
  {
   "cell_type": "code",
   "execution_count": 22,
   "metadata": {},
   "outputs": [],
   "source": [
    "import torch\n",
    "from fastai.vision import *\n",
    "from fastai.callbacks import *\n",
    "from PIL import Image\n",
    "import torchvision.transforms.functional as TTF"
   ]
  },
  {
   "cell_type": "code",
   "execution_count": 23,
   "metadata": {},
   "outputs": [],
   "source": [
    "# loading the learner which we have trained using classifier notebook\n",
    "learn = load_learner(\"path of folder containing exported model\", \"model.pkl\")"
   ]
  },
  {
   "cell_type": "code",
   "execution_count": 25,
   "metadata": {},
   "outputs": [],
   "source": [
    "# shifting model to cpu \n",
    "my_model = learn.model.cpu()\n",
    "softmaxer = torch.nn.Softmax(dim=1)"
   ]
  },
  {
   "cell_type": "code",
   "execution_count": 28,
   "metadata": {},
   "outputs": [
    {
     "name": "stdout",
     "output_type": "stream",
     "text": [
      "torch.Size([1, 3, 448, 448])\n",
      "tensor([[0.3688, 0.6312]], grad_fn=<SoftmaxBackward>)\n"
     ]
    }
   ],
   "source": [
    "# predcting using loaded model to check whether it's working perfectly fine or not.\n",
    "my_model.eval()\n",
    "image = Image.open(\"path of image\")\n",
    "image = image.resize((448, 448))\n",
    "x = TTF.to_tensor(image).div_(255)\n",
    "x = TTF.normalize(x, [0.485, 0.456, 0.406], [0.229, 0.224, 0.225])\n",
    "x.unsqueeze_(0)\n",
    "print(x.size())\n",
    "raw_out = my_model(x)\n",
    "print(softmaxer(raw_out))"
   ]
  },
  {
   "cell_type": "code",
   "execution_count": 7,
   "metadata": {},
   "outputs": [],
   "source": [
    "# tracing the graph of model then converting to serialized form and then saving it\n",
    "traced_cell = torch.jit.trace(my_model, x)\n",
    "traced_cell.save('model.zip')"
   ]
  },
  {
   "cell_type": "code",
   "execution_count": 14,
   "metadata": {},
   "outputs": [],
   "source": [
    "# it shows how to convert a function to torchscript which can be used in C++\n",
    "@torch.jit.script\n",
    "def normalize(inp):\n",
    "    dtype = inp.dtype\n",
    "    inp.sub_(torch.tensor([[[0.485]],[[0.456]], [[0.406]]], dtype=dtype).unsqueeze_(0)).div_(torch.tensor([[[0.229]],[[0.224]], [[0.225]]], dtype=dtype).unsqueeze_(0))\n",
    "    return inp\n",
    "\n",
    "normalize.save(\"normalize1.pt\")"
   ]
  },
  {
   "cell_type": "code",
   "execution_count": 16,
   "metadata": {},
   "outputs": [],
   "source": []
  }
 ],
 "metadata": {
  "kernelspec": {
   "display_name": "Python 3",
   "language": "python",
   "name": "python3"
  },
  "language_info": {
   "codemirror_mode": {
    "name": "ipython",
    "version": 3
   },
   "file_extension": ".py",
   "mimetype": "text/x-python",
   "name": "python",
   "nbconvert_exporter": "python",
   "pygments_lexer": "ipython3",
   "version": "3.7.6"
  }
 },
 "nbformat": 4,
 "nbformat_minor": 2
}
